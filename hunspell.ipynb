{
  "nbformat": 4,
  "nbformat_minor": 0,
  "metadata": {
    "colab": {
      "provenance": []
    },
    "kernelspec": {
      "name": "python3",
      "display_name": "Python 3"
    },
    "language_info": {
      "name": "python"
    }
  },
  "cells": [
    {
      "cell_type": "code",
      "source": [
        "!sudo apt-get install libhunspell-dev\n",
        "!pip install hunspell\n"
      ],
      "metadata": {
        "colab": {
          "base_uri": "https://localhost:8080/"
        },
        "id": "MrSpW0gXN0nc",
        "outputId": "679a7863-5869-43ff-c74f-bfa9b6eaf0c3"
      },
      "execution_count": 3,
      "outputs": [
        {
          "output_type": "stream",
          "name": "stdout",
          "text": [
            "Reading package lists... Done\n",
            "Building dependency tree... Done\n",
            "Reading state information... Done\n",
            "The following additional packages will be installed:\n",
            "  dictionaries-common hunspell-en-us libhunspell-1.7-0 libtext-iconv-perl\n",
            "Suggested packages:\n",
            "  ispell | aspell | hunspell wordlist hunspell openoffice.org-hunspell\n",
            "  | openoffice.org-core\n",
            "The following NEW packages will be installed:\n",
            "  dictionaries-common hunspell-en-us libhunspell-1.7-0 libhunspell-dev\n",
            "  libtext-iconv-perl\n",
            "0 upgraded, 5 newly installed, 0 to remove and 24 not upgraded.\n",
            "Need to get 896 kB of archives.\n",
            "After this operation, 3,130 kB of additional disk space will be used.\n",
            "Get:1 http://archive.ubuntu.com/ubuntu jammy/main amd64 libtext-iconv-perl amd64 1.7-7build3 [14.3 kB]\n",
            "Get:2 http://archive.ubuntu.com/ubuntu jammy/main amd64 dictionaries-common all 1.28.14 [185 kB]\n",
            "Get:3 http://archive.ubuntu.com/ubuntu jammy/main amd64 hunspell-en-us all 1:2020.12.07-2 [280 kB]\n",
            "Get:4 http://archive.ubuntu.com/ubuntu jammy/main amd64 libhunspell-1.7-0 amd64 1.7.0-4build1 [175 kB]\n",
            "Get:5 http://archive.ubuntu.com/ubuntu jammy/main amd64 libhunspell-dev amd64 1.7.0-4build1 [241 kB]\n",
            "Fetched 896 kB in 1s (599 kB/s)\n",
            "debconf: unable to initialize frontend: Dialog\n",
            "debconf: (No usable dialog-like program is installed, so the dialog based frontend cannot be used. at /usr/share/perl5/Debconf/FrontEnd/Dialog.pm line 78, <> line 5.)\n",
            "debconf: falling back to frontend: Readline\n",
            "debconf: unable to initialize frontend: Readline\n",
            "debconf: (This frontend requires a controlling tty.)\n",
            "debconf: falling back to frontend: Teletype\n",
            "dpkg-preconfigure: unable to re-open stdin: \n",
            "Selecting previously unselected package libtext-iconv-perl.\n",
            "(Reading database ... 121666 files and directories currently installed.)\n",
            "Preparing to unpack .../libtext-iconv-perl_1.7-7build3_amd64.deb ...\n",
            "Unpacking libtext-iconv-perl (1.7-7build3) ...\n",
            "Selecting previously unselected package dictionaries-common.\n",
            "Preparing to unpack .../dictionaries-common_1.28.14_all.deb ...\n",
            "Adding 'diversion of /usr/share/dict/words to /usr/share/dict/words.pre-dictionaries-common by dictionaries-common'\n",
            "Unpacking dictionaries-common (1.28.14) ...\n",
            "Selecting previously unselected package hunspell-en-us.\n",
            "Preparing to unpack .../hunspell-en-us_1%3a2020.12.07-2_all.deb ...\n",
            "Unpacking hunspell-en-us (1:2020.12.07-2) ...\n",
            "Selecting previously unselected package libhunspell-1.7-0:amd64.\n",
            "Preparing to unpack .../libhunspell-1.7-0_1.7.0-4build1_amd64.deb ...\n",
            "Unpacking libhunspell-1.7-0:amd64 (1.7.0-4build1) ...\n",
            "Selecting previously unselected package libhunspell-dev:amd64.\n",
            "Preparing to unpack .../libhunspell-dev_1.7.0-4build1_amd64.deb ...\n",
            "Unpacking libhunspell-dev:amd64 (1.7.0-4build1) ...\n",
            "Setting up libtext-iconv-perl (1.7-7build3) ...\n",
            "Setting up dictionaries-common (1.28.14) ...\n",
            "debconf: unable to initialize frontend: Dialog\n",
            "debconf: (No usable dialog-like program is installed, so the dialog based frontend cannot be used. at /usr/share/perl5/Debconf/FrontEnd/Dialog.pm line 78.)\n",
            "debconf: falling back to frontend: Readline\n",
            "Setting up hunspell-en-us (1:2020.12.07-2) ...\n",
            "Setting up libhunspell-1.7-0:amd64 (1.7.0-4build1) ...\n",
            "Setting up libhunspell-dev:amd64 (1.7.0-4build1) ...\n",
            "Processing triggers for man-db (2.10.2-1) ...\n",
            "Processing triggers for libc-bin (2.35-0ubuntu3.4) ...\n",
            "/sbin/ldconfig.real: /usr/local/lib/libtbbmalloc_proxy.so.2 is not a symbolic link\n",
            "\n",
            "/sbin/ldconfig.real: /usr/local/lib/libtbbbind_2_5.so.3 is not a symbolic link\n",
            "\n",
            "/sbin/ldconfig.real: /usr/local/lib/libtbbbind.so.3 is not a symbolic link\n",
            "\n",
            "/sbin/ldconfig.real: /usr/local/lib/libtbb.so.12 is not a symbolic link\n",
            "\n",
            "/sbin/ldconfig.real: /usr/local/lib/libtbbmalloc.so.2 is not a symbolic link\n",
            "\n",
            "/sbin/ldconfig.real: /usr/local/lib/libtbbbind_2_0.so.3 is not a symbolic link\n",
            "\n",
            "Processing triggers for dictionaries-common (1.28.14) ...\n",
            "debconf: unable to initialize frontend: Dialog\n",
            "debconf: (No usable dialog-like program is installed, so the dialog based frontend cannot be used. at /usr/share/perl5/Debconf/FrontEnd/Dialog.pm line 78.)\n",
            "debconf: falling back to frontend: Readline\n",
            "Collecting hunspell\n",
            "  Downloading hunspell-0.5.5.tar.gz (34 kB)\n",
            "  Preparing metadata (setup.py) ... \u001b[?25l\u001b[?25hdone\n",
            "Building wheels for collected packages: hunspell\n",
            "  Building wheel for hunspell (setup.py) ... \u001b[?25l\u001b[?25hdone\n",
            "  Created wheel for hunspell: filename=hunspell-0.5.5-cp310-cp310-linux_x86_64.whl size=66274 sha256=be5e896d32f6bb533e3f33c91e33af74797d67829e0e2b3aaef0cfe5e20549a4\n",
            "  Stored in directory: /root/.cache/pip/wheels/2e/f3/bd/bdce223532ee8aa5345e14e0d6e7ba06cbbaff8767cefe1ec8\n",
            "Successfully built hunspell\n",
            "Installing collected packages: hunspell\n",
            "Successfully installed hunspell-0.5.5\n"
          ]
        }
      ]
    },
    {
      "cell_type": "code",
      "execution_count": 13,
      "metadata": {
        "colab": {
          "base_uri": "https://localhost:8080/"
        },
        "id": "sM6GbZX8NrYJ",
        "outputId": "4e17f724-d595-4696-ccce-4ef6c59ec1c7"
      },
      "outputs": [
        {
          "output_type": "stream",
          "name": "stdout",
          "text": [
            "'समाचार' is spelled correctly in Hindi.\n",
            "'चाय' is spelled correctly in Hindi.\n",
            "'सूरज' is spelled correctly in Hindi.\n",
            "'चायी' might be misspelled in Hindi. Suggestions: ['चाई', 'याची', 'चीया', 'चाभी', 'चाय', 'चलायी', 'चायक', 'चाकी', 'कायी', 'खायी', 'गायी', 'चाची', 'छायी', 'जायी', 'चाटी']\n",
            "'पुस्तल' might be misspelled in Hindi. Suggestions: ['पुस्त', 'पुलस्त', 'पुस्ती', 'पुस्तक', 'पुत्तल', 'पुस्त ल']\n",
            "'फूली' is spelled correctly in Hindi.\n",
            "'पाणी' might be misspelled in Hindi. Suggestions: ['पाणि', 'पाण', 'पणी', 'काणी', 'पाखी', 'पागी', 'पाची', 'पाछी', 'पाजी', 'पाठी', 'पाती', 'पाथी', 'पादी', 'पानी', 'पापी']\n",
            "'राती' might be misspelled in Hindi. Suggestions: ['राति', 'तारी', 'रीता', 'रात', 'रती', 'अराती', 'आराती', 'कराती', 'राखती', 'रखाती', 'घराती', 'राचती', 'रचाती', 'चराती', 'जराती']\n"
          ]
        }
      ],
      "source": [
        "import hunspell\n",
        "\n",
        "# Path to the Hindi dictionary and affix files. Replace with the actual paths where you have stored these files.\n",
        "hindi_dic_path = '/content/hi_IN.dic'\n",
        "hindi_aff_path = '/content/hi_IN.aff'\n",
        "\n",
        "# Initialize the Hunspell spellchecker for Hindi\n",
        "spellchecker = hunspell.HunSpell(hindi_dic_path, hindi_aff_path)\n",
        "\n",
        "# List of Hindi words to check\n",
        "words_to_check = ['समाचार', 'चाय', 'सूरज','चायी','पुस्तल','फूली','पाणी','राती']  # Add more Hindi words here\n",
        "\n",
        "# Function to check spelling of a word\n",
        "def check_spelling(word):\n",
        "    if spellchecker.spell(word):\n",
        "        return f\"'{word}' is spelled correctly in Hindi.\"\n",
        "    else:\n",
        "        suggestions = spellchecker.suggest(word)\n",
        "        return f\"'{word}' might be misspelled in Hindi. Suggestions: {suggestions}\"\n",
        "\n",
        "# Check the spelling of each word in the list\n",
        "for word in words_to_check:\n",
        "    result = check_spelling(word)\n",
        "    print(result)\n"
      ]
    }
  ]
}